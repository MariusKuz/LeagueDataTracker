{
 "cells": [
  {
   "cell_type": "markdown",
   "metadata": {},
   "source": [
    "# Imports"
   ]
  },
  {
   "cell_type": "code",
   "execution_count": 13,
   "metadata": {},
   "outputs": [],
   "source": [
    "import urllib.request, urllib.parse, urllib.error\n",
    "from datetime import datetime\n",
    "import csv\n",
    "import time"
   ]
  },
  {
   "cell_type": "markdown",
   "metadata": {},
   "source": [
    "# Functions"
   ]
  },
  {
   "cell_type": "markdown",
   "metadata": {},
   "source": [
    "periodic work: timer (1800s) = 30 minutes\n",
    "detData: scrape important stats from op.gg"
   ]
  },
  {
   "cell_type": "code",
   "execution_count": null,
   "metadata": {},
   "outputs": [
    {
     "name": "stdout",
     "output_type": "stream",
     "text": [
      "2020-11-09 20:32:09.849985\n",
      "T1: Hulksmash1337\n",
      "10\n",
      "0.05\n",
      "Master\n",
      "55 LP\n",
      "465W\n",
      "389L\n",
      "2020-11-09 21:02:10.704408\n",
      "T1: Hulksmash1337\n",
      "10\n",
      "0.05\n",
      "Master\n",
      "55 LP\n",
      "465W\n",
      "389L\n"
     ]
    }
   ],
   "source": [
    "def periodic_work(interval):\n",
    "    while True:\n",
    "        getData()\n",
    "        time.sleep(interval)\n",
    "        \n",
    "        \n",
    "        \n",
    "def getData():\n",
    "    fhand = urllib.request.urlopen('https://na.op.gg/summoner/userName=HULKSMASH1337')\n",
    "    text =\"\"\n",
    "    for line in fhand:\n",
    "        text += line.decode()\n",
    "    \n",
    "    #daterecorded\n",
    "    rectime = datetime.now()\n",
    "    #player\n",
    "    player = \"T1: Hulksmash1337\"                                                          #Hardcoded\n",
    "\n",
    "    #season\n",
    "    season = 10                                                                           #Hardcoded/unsure on s11 start\n",
    "    if \"2020-11-11\" in str(rectime):\n",
    "        season = 10.5\n",
    "\n",
    "    #Ladder Position Euw\n",
    "    ladderind = text.find('Ladder Rank')\n",
    "    ladderpos = text[ladderind: ladderind+65: 1].rsplit(\"(\")[1][0: 4: 1]\n",
    "\n",
    "    #Ranked Solo\n",
    "    tierind = text.find('<div class=\"TierRank\">')\n",
    "    solotier = text[tierind: tierind+35: 1].rsplit(\">\")[1].strip(\"</div\")\n",
    "\n",
    "    #LP Solo\n",
    "    LPind = text.find('<span class=\"LeaguePoints\">')\n",
    "    LPscore = text[LPind: LPind+40: 1].rsplit(\">\")[1].strip('\\n').strip('\\t').strip('\\n')\n",
    "\n",
    "    #Solo wins\n",
    "    soloWind = text.find('<span class=\"wins\">')\n",
    "    soloW = text[soloWind: soloWind+30: 1].rsplit(\">\")[1].strip(\"</span\")\n",
    "\n",
    "    #Solo Losses\n",
    "    soloLind = text.find('<span class=\"losses\">')\n",
    "    soloL = text[soloLind: soloLind+30: 1].rsplit(\">\")[1].strip(\"</spa\")\n",
    "\n",
    "\n",
    "\n",
    "    #print\n",
    "    print(rectime)\n",
    "    print(player)\n",
    "    print(season)\n",
    "    print(ladderpos)\n",
    "    print(solotier)\n",
    "    print(LPscore)\n",
    "    print(soloW)\n",
    "    print(soloL)\n",
    "\n",
    "    with open('tlhulk.csv', 'a') as f:\n",
    "        wr = csv.writer(f)\n",
    "        wr.writerow([rectime,player,season,ladderpos,solotier,LPscore,soloW,soloL])\n",
    "\n",
    "        \n",
    "periodic_work(1800)"
   ]
  }
 ],
 "metadata": {
  "kernelspec": {
   "display_name": "Python 3",
   "language": "python",
   "name": "python3"
  },
  "language_info": {
   "codemirror_mode": {
    "name": "ipython",
    "version": 3
   },
   "file_extension": ".py",
   "mimetype": "text/x-python",
   "name": "python",
   "nbconvert_exporter": "python",
   "pygments_lexer": "ipython3",
   "version": "3.7.6"
  }
 },
 "nbformat": 4,
 "nbformat_minor": 4
}
