{
 "cells": [
  {
   "cell_type": "code",
   "execution_count": 1,
   "metadata": {},
   "outputs": [],
   "source": [
    "%matplotlib inline \n",
    "import numpy  as np\n",
    "import pandas as pd\n",
    "\n",
    "# Import matplotlib\n",
    "import matplotlib as mpl\n",
    "import matplotlib.pyplot as plt # Pyplot is such a general function that it deserves its own alias\n",
    "from pandas.plotting import scatter_matrix\n",
    "\n",
    "features = [\"TimeStamp\", \"Player\" ,\"Season\", \"Top %\", \"Rank\", \"LP\", \"Wins\", \"Losses\"]\n",
    "\n",
    "df = pd.read_csv('tlhulk.csv', names=features)"
   ]
  },
  {
   "cell_type": "markdown",
   "metadata": {},
   "source": [
    "# Explore and Clean"
   ]
  },
  {
   "cell_type": "code",
   "execution_count": 2,
   "metadata": {},
   "outputs": [
    {
     "data": {
      "text/html": [
       "<div>\n",
       "<style scoped>\n",
       "    .dataframe tbody tr th:only-of-type {\n",
       "        vertical-align: middle;\n",
       "    }\n",
       "\n",
       "    .dataframe tbody tr th {\n",
       "        vertical-align: top;\n",
       "    }\n",
       "\n",
       "    .dataframe thead th {\n",
       "        text-align: right;\n",
       "    }\n",
       "</style>\n",
       "<table border=\"1\" class=\"dataframe\">\n",
       "  <thead>\n",
       "    <tr style=\"text-align: right;\">\n",
       "      <th></th>\n",
       "      <th>TimeStamp</th>\n",
       "      <th>Player</th>\n",
       "      <th>Season</th>\n",
       "      <th>Top %</th>\n",
       "      <th>Rank</th>\n",
       "      <th>LP</th>\n",
       "      <th>Wins</th>\n",
       "      <th>Losses</th>\n",
       "    </tr>\n",
       "  </thead>\n",
       "  <tbody>\n",
       "    <tr>\n",
       "      <th>0</th>\n",
       "      <td>2020-11-09 20:17:10.271931</td>\n",
       "      <td>T1: Hulksmash1337</td>\n",
       "      <td>10.0</td>\n",
       "      <td>0.05</td>\n",
       "      <td>Master</td>\n",
       "      <td>74 LP</td>\n",
       "      <td>465W</td>\n",
       "      <td>388L</td>\n",
       "    </tr>\n",
       "    <tr>\n",
       "      <th>1</th>\n",
       "      <td>2020-11-09 20:32:09.849985</td>\n",
       "      <td>T1: Hulksmash1337</td>\n",
       "      <td>10.0</td>\n",
       "      <td>0.05</td>\n",
       "      <td>Master</td>\n",
       "      <td>55 LP</td>\n",
       "      <td>465W</td>\n",
       "      <td>389L</td>\n",
       "    </tr>\n",
       "    <tr>\n",
       "      <th>2</th>\n",
       "      <td>2020-11-09 21:02:10.704408</td>\n",
       "      <td>T1: Hulksmash1337</td>\n",
       "      <td>10.0</td>\n",
       "      <td>0.05</td>\n",
       "      <td>Master</td>\n",
       "      <td>55 LP</td>\n",
       "      <td>465W</td>\n",
       "      <td>389L</td>\n",
       "    </tr>\n",
       "    <tr>\n",
       "      <th>3</th>\n",
       "      <td>2020-11-09 21:32:11.693884</td>\n",
       "      <td>T1: Hulksmash1337</td>\n",
       "      <td>10.0</td>\n",
       "      <td>0.05</td>\n",
       "      <td>Master</td>\n",
       "      <td>36 LP</td>\n",
       "      <td>465W</td>\n",
       "      <td>390L</td>\n",
       "    </tr>\n",
       "    <tr>\n",
       "      <th>4</th>\n",
       "      <td>2020-11-09 22:02:14.116090</td>\n",
       "      <td>T1: Hulksmash1337</td>\n",
       "      <td>10.0</td>\n",
       "      <td>0.05</td>\n",
       "      <td>Master</td>\n",
       "      <td>18 LP</td>\n",
       "      <td>465W</td>\n",
       "      <td>391L</td>\n",
       "    </tr>\n",
       "  </tbody>\n",
       "</table>\n",
       "</div>"
      ],
      "text/plain": [
       "                    TimeStamp             Player  Season  Top %    Rank  \\\n",
       "0  2020-11-09 20:17:10.271931  T1: Hulksmash1337    10.0   0.05  Master   \n",
       "1  2020-11-09 20:32:09.849985  T1: Hulksmash1337    10.0   0.05  Master   \n",
       "2  2020-11-09 21:02:10.704408  T1: Hulksmash1337    10.0   0.05  Master   \n",
       "3  2020-11-09 21:32:11.693884  T1: Hulksmash1337    10.0   0.05  Master   \n",
       "4  2020-11-09 22:02:14.116090  T1: Hulksmash1337    10.0   0.05  Master   \n",
       "\n",
       "      LP  Wins Losses  \n",
       "0  74 LP  465W   388L  \n",
       "1  55 LP  465W   389L  \n",
       "2  55 LP  465W   389L  \n",
       "3  36 LP  465W   390L  \n",
       "4  18 LP  465W   391L  "
      ]
     },
     "execution_count": 2,
     "metadata": {},
     "output_type": "execute_result"
    }
   ],
   "source": [
    "df.head()"
   ]
  },
  {
   "cell_type": "markdown",
   "metadata": {},
   "source": [
    "### Strip String Data from Int data"
   ]
  },
  {
   "cell_type": "code",
   "execution_count": 3,
   "metadata": {},
   "outputs": [],
   "source": [
    "df['LP'] = df['LP'].map(lambda x: x.strip(\" LP\"))\n",
    "df['Wins'] = df['Wins'].map(lambda x: x.strip(\"W\"))\n",
    "df['Losses'] = df['Losses'].map(lambda x: x.strip(\"L\"))"
   ]
  },
  {
   "cell_type": "markdown",
   "metadata": {},
   "source": [
    "### Change Data types"
   ]
  },
  {
   "cell_type": "code",
   "execution_count": 4,
   "metadata": {},
   "outputs": [],
   "source": [
    "df['Wins'] = df['Wins'].apply(pd.to_numeric)\n",
    "df['Losses'] = df['Losses'].apply(pd.to_numeric)\n",
    "df['LP'] = df['LP'].apply(pd.to_numeric)\n",
    "#ordinal/categoricaldf['Season']"
   ]
  },
  {
   "cell_type": "markdown",
   "metadata": {},
   "source": [
    "# Feature Engineer"
   ]
  },
  {
   "cell_type": "code",
   "execution_count": 5,
   "metadata": {},
   "outputs": [],
   "source": [
    "df['Total Games'] = df['Wins'] + df['Losses']"
   ]
  },
  {
   "cell_type": "markdown",
   "metadata": {},
   "source": [
    "### Function to Create new feature (Enumerating Rank) => Total LP"
   ]
  },
  {
   "cell_type": "code",
   "execution_count": 6,
   "metadata": {},
   "outputs": [],
   "source": [
    "divisions = { \"1\": 300,\n",
    "          \"2\": 200,\n",
    "          \"3\": 100,\n",
    "          \"4\": 0   \n",
    "}\n",
    "\n",
    "tiers = { \"Iron\": 0,\n",
    "          \"Bronze\": 400,\n",
    "          \"Silver\": 800,\n",
    "          \"Gold\": 1200,\n",
    "          \"Platinum\": 1600,\n",
    "          \"Diamond\": 2000,\n",
    "          \"Master\": 2400\n",
    "}"
   ]
  },
  {
   "cell_type": "code",
   "execution_count": 13,
   "metadata": {},
   "outputs": [],
   "source": [
    "def totalLP():\n",
    "    rind = 0\n",
    "    for rank in df['Rank']:\n",
    "        a= rank.split()[0]\n",
    "        if rank == \"Master\":\n",
    "            b = \"4\" #worth 0\n",
    "        else:\n",
    "            b= rank.split()[1]\n",
    "        for tier in tiers:\n",
    "            for division in divisions:\n",
    "                if a == tier and b == division:\n",
    "                    df.loc[rind,'Total LP'] = (tiers.get(a) + divisions.get(b)) + df.loc[rind,'LP']\n",
    "                    rind += 1                             \n",
    "totalLP()"
   ]
  },
  {
   "cell_type": "code",
   "execution_count": 14,
   "metadata": {},
   "outputs": [
    {
     "data": {
      "text/html": [
       "<div>\n",
       "<style scoped>\n",
       "    .dataframe tbody tr th:only-of-type {\n",
       "        vertical-align: middle;\n",
       "    }\n",
       "\n",
       "    .dataframe tbody tr th {\n",
       "        vertical-align: top;\n",
       "    }\n",
       "\n",
       "    .dataframe thead th {\n",
       "        text-align: right;\n",
       "    }\n",
       "</style>\n",
       "<table border=\"1\" class=\"dataframe\">\n",
       "  <thead>\n",
       "    <tr style=\"text-align: right;\">\n",
       "      <th></th>\n",
       "      <th>TimeStamp</th>\n",
       "      <th>Player</th>\n",
       "      <th>Season</th>\n",
       "      <th>Top %</th>\n",
       "      <th>Rank</th>\n",
       "      <th>LP</th>\n",
       "      <th>Wins</th>\n",
       "      <th>Losses</th>\n",
       "      <th>Total Games</th>\n",
       "      <th>Total LP</th>\n",
       "    </tr>\n",
       "  </thead>\n",
       "  <tbody>\n",
       "    <tr>\n",
       "      <th>0</th>\n",
       "      <td>2020-11-09 20:17:10.271931</td>\n",
       "      <td>T1: Hulksmash1337</td>\n",
       "      <td>10.0</td>\n",
       "      <td>0.05</td>\n",
       "      <td>Master</td>\n",
       "      <td>74</td>\n",
       "      <td>465</td>\n",
       "      <td>388</td>\n",
       "      <td>853</td>\n",
       "      <td>2474.0</td>\n",
       "    </tr>\n",
       "    <tr>\n",
       "      <th>1</th>\n",
       "      <td>2020-11-09 20:32:09.849985</td>\n",
       "      <td>T1: Hulksmash1337</td>\n",
       "      <td>10.0</td>\n",
       "      <td>0.05</td>\n",
       "      <td>Master</td>\n",
       "      <td>55</td>\n",
       "      <td>465</td>\n",
       "      <td>389</td>\n",
       "      <td>854</td>\n",
       "      <td>2455.0</td>\n",
       "    </tr>\n",
       "    <tr>\n",
       "      <th>2</th>\n",
       "      <td>2020-11-09 21:02:10.704408</td>\n",
       "      <td>T1: Hulksmash1337</td>\n",
       "      <td>10.0</td>\n",
       "      <td>0.05</td>\n",
       "      <td>Master</td>\n",
       "      <td>55</td>\n",
       "      <td>465</td>\n",
       "      <td>389</td>\n",
       "      <td>854</td>\n",
       "      <td>2455.0</td>\n",
       "    </tr>\n",
       "    <tr>\n",
       "      <th>3</th>\n",
       "      <td>2020-11-09 21:32:11.693884</td>\n",
       "      <td>T1: Hulksmash1337</td>\n",
       "      <td>10.0</td>\n",
       "      <td>0.05</td>\n",
       "      <td>Master</td>\n",
       "      <td>36</td>\n",
       "      <td>465</td>\n",
       "      <td>390</td>\n",
       "      <td>855</td>\n",
       "      <td>2436.0</td>\n",
       "    </tr>\n",
       "    <tr>\n",
       "      <th>4</th>\n",
       "      <td>2020-11-09 22:02:14.116090</td>\n",
       "      <td>T1: Hulksmash1337</td>\n",
       "      <td>10.0</td>\n",
       "      <td>0.05</td>\n",
       "      <td>Master</td>\n",
       "      <td>18</td>\n",
       "      <td>465</td>\n",
       "      <td>391</td>\n",
       "      <td>856</td>\n",
       "      <td>2418.0</td>\n",
       "    </tr>\n",
       "  </tbody>\n",
       "</table>\n",
       "</div>"
      ],
      "text/plain": [
       "                    TimeStamp             Player  Season  Top %    Rank  LP  \\\n",
       "0  2020-11-09 20:17:10.271931  T1: Hulksmash1337    10.0   0.05  Master  74   \n",
       "1  2020-11-09 20:32:09.849985  T1: Hulksmash1337    10.0   0.05  Master  55   \n",
       "2  2020-11-09 21:02:10.704408  T1: Hulksmash1337    10.0   0.05  Master  55   \n",
       "3  2020-11-09 21:32:11.693884  T1: Hulksmash1337    10.0   0.05  Master  36   \n",
       "4  2020-11-09 22:02:14.116090  T1: Hulksmash1337    10.0   0.05  Master  18   \n",
       "\n",
       "   Wins  Losses  Total Games  Total LP  \n",
       "0   465     388          853    2474.0  \n",
       "1   465     389          854    2455.0  \n",
       "2   465     389          854    2455.0  \n",
       "3   465     390          855    2436.0  \n",
       "4   465     391          856    2418.0  "
      ]
     },
     "execution_count": 14,
     "metadata": {},
     "output_type": "execute_result"
    }
   ],
   "source": [
    "df.head()"
   ]
  },
  {
   "cell_type": "code",
   "execution_count": 15,
   "metadata": {},
   "outputs": [],
   "source": [
    "#pd.plotting.scatter_matrix(df, alpha = 0.8, figsize=(15,15))"
   ]
  },
  {
   "cell_type": "markdown",
   "metadata": {},
   "source": [
    "# Split accounts"
   ]
  },
  {
   "cell_type": "code",
   "execution_count": 16,
   "metadata": {},
   "outputs": [],
   "source": [
    "top = df.loc[df['Player']== \"T1: Hulksmash1337\"]\n",
    "jungle = df.loc[df['Player']== \"T1: S8 IS SO FUN\"]"
   ]
  },
  {
   "cell_type": "code",
   "execution_count": 17,
   "metadata": {},
   "outputs": [
    {
     "data": {
      "text/plain": [
       "Text(0.5, 1.0, 'Tylers account % in NA over games played')"
      ]
     },
     "execution_count": 17,
     "metadata": {},
     "output_type": "execute_result"
    },
    {
     "data": {
      "image/png": "[encoded data removed]",
      "text/plain": [
       "<Figure size 936x720 with 1 Axes>"
      ]
     },
     "metadata": {
      "needs_background": "light"
     },
     "output_type": "display_data"
    }
   ],
   "source": [
    "plt.figure(figsize=(13,10))\n",
    "plt.plot(top['Total Games'], top['Top %'], color=\"blue\", label=\"Top\")\n",
    "plt.plot(jungle['Total Games'], jungle['Top %'],color=\"green\" , label=\"JG\")\n",
    "plt.xlabel(\"Total Games\")\n",
    "plt.ylabel(\"% in NA\")\n",
    "plt.title(\"Tylers account % in NA over games played\")  "
   ]
  },
  {
   "cell_type": "code",
   "execution_count": 18,
   "metadata": {},
   "outputs": [
    {
     "data": {
      "text/plain": [
       "Text(0.5, 1.0, 'Tylers account Games and Total LP')"
      ]
     },
     "execution_count": 18,
     "metadata": {},
     "output_type": "execute_result"
    },
    {
     "data": {
      "image/png": "[encoded data removed]",
      "text/plain": [
       "<Figure size 936x720 with 1 Axes>"
      ]
     },
     "metadata": {
      "needs_background": "light"
     },
     "output_type": "display_data"
    }
   ],
   "source": [
    "plt.figure(figsize=(13,10))\n",
    "plt.plot(top['Total Games'], top['Total LP'], color=\"blue\", label=\"Top\")\n",
    "plt.plot(jungle['Total Games'], jungle['Total LP'],color=\"green\" , label=\"JG\")\n",
    "plt.xlabel(\"Total Games\")\n",
    "plt.ylabel(\"Total LP\")\n",
    "plt.title(\"Tylers account Games and Total LP\")  "
   ]
  },
  {
   "cell_type": "code",
   "execution_count": null,
   "metadata": {},
   "outputs": [],
   "source": []
  }
 ],
 "metadata": {
  "kernelspec": {
   "display_name": "Python 3",
   "language": "python",
   "name": "python3"
  },
  "language_info": {
   "codemirror_mode": {
    "name": "ipython",
    "version": 3
   },
   "file_extension": ".py",
   "mimetype": "text/x-python",
   "name": "python",
   "nbconvert_exporter": "python",
   "pygments_lexer": "ipython3",
   "version": "3.7.6"
  }
 },
 "nbformat": 4,
 "nbformat_minor": 4
}
